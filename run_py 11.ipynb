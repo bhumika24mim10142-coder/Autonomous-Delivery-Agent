{
  "nbformat": 4,
  "nbformat_minor": 0,
  "metadata": {
    "colab": {
      "provenance": []
    },
    "kernelspec": {
      "name": "python3",
      "display_name": "Python 3"
    },
    "language_info": {
      "name": "python"
    }
  },
  "cells": [
    {
      "cell_type": "code",
      "execution_count": null,
      "metadata": {
        "id": "QZnHCuC3sCv7"
      },
      "outputs": [],
      "source": [
        "#!/usr/bin/env python3\n",
        "\"\"\"\n",
        "Main entry point for the Autonomous Delivery Agent project\n",
        "\"\"\"\n",
        "\n",
        "import os\n",
        "import sys\n",
        "\n",
        "# Add the src directory to the Python path\n",
        "sys.path.append(os.path.join(os.path.dirname(__file__), 'src'))\n",
        "\n",
        "from cli import main\n",
        "\n",
        "if __name__ == '__main__':\n",
        "    sys.exit(main())"
      ]
    }
  ]
}