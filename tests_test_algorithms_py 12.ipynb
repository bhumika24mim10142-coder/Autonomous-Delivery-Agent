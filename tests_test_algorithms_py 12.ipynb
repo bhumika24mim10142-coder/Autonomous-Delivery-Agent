{
  "nbformat": 4,
  "nbformat_minor": 0,
  "metadata": {
    "colab": {
      "provenance": []
    },
    "kernelspec": {
      "name": "python3",
      "display_name": "Python 3"
    },
    "language_info": {
      "name": "python"
    }
  },
  "cells": [
    {
      "cell_type": "code",
      "execution_count": null,
      "metadata": {
        "id": "xHvtOItSs0T4"
      },
      "outputs": [],
      "source": [
        "\"\"\"\n",
        "Unit tests for search algorithms\n",
        "\"\"\"\n",
        "\n",
        "import unittest\n",
        "import sys\n",
        "import os\n",
        "sys.path.append(os.path.join(os.path.dirname(__file__), '..', 'src'))\n",
        "\n",
        "from environment import GridEnvironment\n",
        "from algorithms.uninformed_search import breadth_first_search, uniform_cost_search\n",
        "from algorithms.informed_search import a_star_search\n",
        "\n",
        "class TestSearchAlgorithms(unittest.TestCase):\n",
        "\n",
        "    def setUp(self):\n",
        "        self.env = GridEnvironment(5, 5)\n",
        "        # Create a simple environment without obstacles\n",
        "        for i in range(5):\n",
        "            for j in range(5):\n",
        "                self.env.terrain_costs[i, j] = 1\n",
        "\n",
        "    def test_bfs(self):\n",
        "        result = breadth_first_search(self.env, (0, 0), (4, 4))\n",
        "        self.assertTrue(result['success'])\n",
        "        self.assertGreater(len(result['path']), 0)\n",
        "\n",
        "    def test_astar(self):\n",
        "        result = a_star_search(self.env, (0, 0), (4, 4))\n",
        "        self.assertTrue(result['success'])\n",
        "        self.assertGreater(len(result['path']), 0)\n",
        "\n",
        "if __name__ == '__main__':\n",
        "    unittest.main()"
      ]
    }
  ]
}