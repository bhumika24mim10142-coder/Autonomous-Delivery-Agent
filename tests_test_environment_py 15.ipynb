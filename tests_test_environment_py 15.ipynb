{
  "nbformat": 4,
  "nbformat_minor": 0,
  "metadata": {
    "colab": {
      "provenance": []
    },
    "kernelspec": {
      "name": "python3",
      "display_name": "Python 3"
    },
    "language_info": {
      "name": "python"
    }
  },
  "cells": [
    {
      "cell_type": "code",
      "execution_count": null,
      "metadata": {
        "id": "RmNQgmdGsBgw"
      },
      "outputs": [],
      "source": [
        "\"\"\"\n",
        "Unit tests for the environment module\n",
        "\"\"\"\n",
        "\n",
        "import unittest\n",
        "import sys\n",
        "import os\n",
        "sys.path.append(os.path.join(os.path.dirname(__file__), '..', 'src'))\n",
        "\n",
        "from environment import GridEnvironment\n",
        "\n",
        "class TestGridEnvironment(unittest.TestCase):\n",
        "\n",
        "    def setUp(self):\n",
        "        self.env = GridEnvironment(10, 10)\n",
        "\n",
        "    def test_initialization(self):\n",
        "        self.assertEqual(self.env.width, 10)\n",
        "        self.assertEqual(self.env.height, 10)\n",
        "        self.assertEqual(self.env.terrain_costs.shape, (10, 10))\n",
        "\n",
        "    def test_is_valid_position(self):\n",
        "        # Test within bounds\n",
        "        self.assertTrue(self.env.is_valid_position(0, 0))\n",
        "        self.assertTrue(self.env.is_valid_position(9, 9))\n",
        "\n",
        "        # Test out of bounds\n",
        "        self.assertFalse(self.env.is_valid_position(-1, 0))\n",
        "        self.assertFalse(self.env.is_valid_position(10, 10))\n",
        "\n",
        "    def test_get_neighbors(self):\n",
        "        neighbors = self.env.get_neighbors(5, 5)\n",
        "        self.assertEqual(len(neighbors), 4)  # 4-connected\n",
        "\n",
        "        # Test with obstacle\n",
        "        self.env.static_obstacles[5, 6] = True\n",
        "        neighbors = self.env.get_neighbors(5, 5)\n",
        "        self.assertEqual(len(neighbors), 3)  # One direction blocked\n",
        "\n",
        "if __name__ == '__main__':\n",
        "    unittest.main()"
      ]
    }
  ]
}