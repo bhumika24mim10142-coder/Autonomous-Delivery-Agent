{
  "nbformat": 4,
  "nbformat_minor": 0,
  "metadata": {
    "colab": {
      "provenance": []
    },
    "kernelspec": {
      "name": "python3",
      "display_name": "Python 3"
    },
    "language_info": {
      "name": "python"
    }
  },
  "cells": [
    {
      "cell_type": "code",
      "execution_count": null,
      "metadata": {
        "id": "G5v-iLsWsyGu"
      },
      "outputs": [],
      "source": [
        "\"\"\"\n",
        "Script to run experimental comparisons of all algorithms\n",
        "\"\"\"\n",
        "\n",
        "import os\n",
        "import sys\n",
        "import time\n",
        "import csv\n",
        "sys.path.append(os.path.join(os.path.dirname(__file__), 'src'))\n",
        "\n",
        "from environment import GridEnvironment\n",
        "from agent import DeliveryAgent\n",
        "\n",
        "def run_experiments():\n",
        "    \"\"\"Run comprehensive experiments on all maps\"\"\"\n",
        "\n",
        "    maps = ['small.map', 'medium.map', 'large.map', 'dynamic.map']\n",
        "    algorithms = ['bfs', 'ucs', 'astar', 'hillclimb', 'annealing']\n",
        "\n",
        "    results = []\n",
        "\n",
        "    for map_name in maps:\n",
        "        print(f\"\\n=== Testing on {map_name} ===\")\n",
        "\n",
        "        env = GridEnvironment(0, 0)\n",
        "        env.load_from_file(f'maps/{map_name}')\n",
        "\n",
        "        goal = env.delivery_points[0] if env.delivery_points else (env.width-1, env.height-1)\n",
        "\n",
        "        for algorithm in algorithms:\n",
        "            agent = DeliveryAgent(env)\n",
        "\n",
        "            start_time = time.time()\n",
        "            result = agent.plan_path(algorithm, env.agent_start, goal)\n",
        "            end_time = time.time()\n",
        "\n",
        "            result['algorithm'] = algorithm\n",
        "            result['map'] = map_name\n",
        "            result['total_time'] = end_time - start_time\n",
        "\n",
        "            results.append(result)\n",
        "\n",
        "            status = \"✓\" if result['success'] else \"✗\"\n",
        "            print(f\"{status} {algorithm:<10} | Cost: {result['cost']:>6} | \"\n",
        "                  f\"Nodes: {result['nodes_expanded']:>6} | Time: {result['total_time']:>7.4f}s\")\n",
        "\n",
        "    # Save results to CSV\n",
        "    with open('results/experimental_results.csv', 'w', newline='') as csvfile:\n",
        "        fieldnames = ['algorithm', 'map', 'success', 'cost', 'nodes_expanded', 'total_time']\n",
        "        writer = csv.DictWriter(csvfile, fieldnames=fieldnames)\n",
        "\n",
        "        writer.writeheader()\n",
        "        for result in results:\n",
        "            writer.writerow({\n",
        "                'algorithm': result['algorithm'],\n",
        "                'map': result['map'],\n",
        "                'success': result['success'],\n",
        "                'cost': result['cost'],\n",
        "                'nodes_expanded': result['nodes_expanded'],\n",
        "                'total_time': result['total_time']\n",
        "            })\n",
        "\n",
        "    print(\"\\n=== Results saved to results/experimental_results.csv ===\")\n",
        "    return results\n",
        "\n",
        "if __name__ == '__main__':\n",
        "    run_experiments()"
      ]
    }
  ]
}