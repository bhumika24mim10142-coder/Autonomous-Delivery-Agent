{
  "nbformat": 4,
  "nbformat_minor": 0,
  "metadata": {
    "colab": {
      "provenance": []
    },
    "kernelspec": {
      "name": "python3",
      "display_name": "Python 3"
    },
    "language_info": {
      "name": "python"
    }
  },
  "cells": [
    {
      "cell_type": "code",
      "execution_count": null,
      "metadata": {
        "id": "hoGnblS-rDaN"
      },
      "outputs": [],
      "source": [
        "\"\"\"\n",
        "Informed search algorithms: A* with admissible heuristics\n",
        "\"\"\"\n",
        "\n",
        "from typing import List, Tuple, Dict, Callable\n",
        "from ..utils import PriorityQueue, Node, manhattan_distance, euclidean_distance\n",
        "\n",
        "def a_star_search(environment, start: Tuple[int, int], goal: Tuple[int, int],\n",
        "                 heuristic: Callable = manhattan_distance, max_time: int = 1000) -> Dict[str, any]:\n",
        "    \"\"\"A* Search implementation with admissible heuristic\"\"\"\n",
        "\n",
        "    frontier = PriorityQueue()\n",
        "    start_node = Node(start)\n",
        "    frontier.put(start_node, heuristic(start, goal))\n",
        "\n",
        "    cost_so_far = {start: 0}\n",
        "    nodes_expanded = 0\n",
        "\n",
        "    while not frontier.empty():\n",
        "        node = frontier.get()\n",
        "        nodes_expanded += 1\n",
        "\n",
        "        if node.position == goal:\n",
        "            return {\n",
        "                'path': node.get_path(),\n",
        "                'cost': node.path_cost,\n",
        "                'nodes_expanded': nodes_expanded,\n",
        "                'success': True\n",
        "            }\n",
        "\n",
        "        for nx, ny, cost in environment.get_neighbors(*node.position, node.time_step + 1):\n",
        "            new_cost = node.path_cost + cost\n",
        "            if (nx, ny) not in cost_so_far or new_cost < cost_so_far[(nx, ny)]:\n",
        "                cost_so_far[(nx, ny)] = new_cost\n",
        "                priority = new_cost + heuristic((nx, ny), goal)\n",
        "                new_node = Node((nx, ny), node, None, new_cost, node.time_step + 1)\n",
        "                frontier.put(new_node, priority)\n",
        "\n",
        "        if nodes_expanded > max_time:\n",
        "            break\n",
        "\n",
        "    return {\n",
        "        'path': [],\n",
        "        'cost': float('inf'),\n",
        "        'nodes_expanded': nodes_expanded,\n",
        "        'success': False\n",
        "    }\n",
        "\n",
        "def adaptive_a_star(environment, start: Tuple[int, int], goal: Tuple[int, int],\n",
        "                   max_time: int = 1000) -> Dict[str, any]:\n",
        "    \"\"\"Adaptive A* that can handle dynamic obstacles\"\"\"\n",
        "    return a_star_search(environment, start, goal, manhattan_distance, max_time)"
      ]
    }
  ]
}