{
  "nbformat": 4,
  "nbformat_minor": 0,
  "metadata": {
    "colab": {
      "provenance": []
    },
    "kernelspec": {
      "name": "python3",
      "display_name": "Python 3"
    },
    "language_info": {
      "name": "python"
    }
  },
  "cells": [
    {
      "cell_type": "code",
      "execution_count": null,
      "metadata": {
        "id": "pEcn6raaqt7H"
      },
      "outputs": [],
      "source": [
        "\"\"\"\n",
        "Utility functions and classes for the delivery agent\n",
        "\"\"\"\n",
        "\n",
        "import heapq\n",
        "from typing import List, Tuple, Dict, Any\n",
        "\n",
        "class PriorityQueue:\n",
        "    \"\"\"A priority queue implementation for pathfinding algorithms\"\"\"\n",
        "\n",
        "    def __init__(self):\n",
        "        self.elements = []\n",
        "\n",
        "    def empty(self) -> bool:\n",
        "        return len(self.elements) == 0\n",
        "\n",
        "    def put(self, item: Any, priority: float):\n",
        "        heapq.heappush(self.elements, (priority, item))\n",
        "\n",
        "    def get(self) -> Any:\n",
        "        return heapq.heappop(self.elements)[1]\n",
        "\n",
        "class Node:\n",
        "    \"\"\"Represents a node in the search tree\"\"\"\n",
        "\n",
        "    def __init__(self, position: Tuple[int, int], parent=None, action=None, path_cost=0, time_step=0):\n",
        "        self.position = position\n",
        "        self.parent = parent\n",
        "        self.action = action\n",
        "        self.path_cost = path_cost\n",
        "        self.time_step = time_step\n",
        "\n",
        "    def __lt__(self, other):\n",
        "        return self.path_cost < other.path_cost\n",
        "\n",
        "    def get_path(self) -> List[Tuple[int, int]]:\n",
        "        \"\"\"Reconstruct path from start to this node\"\"\"\n",
        "        path = []\n",
        "        current = self\n",
        "        while current:\n",
        "            path.append(current.position)\n",
        "            current = current.parent\n",
        "        return path[::-1]\n",
        "\n",
        "def manhattan_distance(pos1: Tuple[int, int], pos2: Tuple[int, int]) -> int:\n",
        "    \"\"\"Calculate Manhattan distance between two points\"\"\"\n",
        "    x1, y1 = pos1\n",
        "    x2, y2 = pos2\n",
        "    return abs(x1 - x2) + abs(y1 - y2)\n",
        "\n",
        "def euclidean_distance(pos1: Tuple[int, int], pos2: Tuple[int, int]) -> float:\n",
        "    \"\"\"Calculate Euclidean distance between two points\"\"\"\n",
        "    x1, y1 = pos1\n",
        "    x2, y2 = pos2\n",
        "    return ((x1 - x2) ** 2 + (y1 - y2) ** 2) ** 0.5\n",
        "\n",
        "def calculate_path_cost(path: List[Tuple[int, int]], environment) -> int:\n",
        "    \"\"\"Calculate total cost of a path\"\"\"\n",
        "    if not path:\n",
        "        return float('inf')\n",
        "\n",
        "    total_cost = 0\n",
        "    for i in range(len(path) - 1):\n",
        "        x, y = path[i]\n",
        "        total_cost += environment.get_terrain_cost(x, y)\n",
        "\n",
        "    return total_cost"
      ]
    }
  ]
}